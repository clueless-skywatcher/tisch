{
 "cells": [
  {
   "cell_type": "code",
   "execution_count": 1,
   "id": "68b40573",
   "metadata": {},
   "outputs": [
    {
     "output_type": "execute_result",
     "data": {
      "text/plain": [
       "('D:\\\\Anaconda\\\\envs\\\\tisch\\\\python.exe',\n",
       " ['d:\\\\python\\\\tisch',\n",
       "  'c:\\\\Users\\\\Somiparno\\\\.vscode\\\\extensions\\\\ms-toolsai.jupyter-2021.8.1013163132\\\\pythonFiles',\n",
       "  'c:\\\\Users\\\\Somiparno\\\\.vscode\\\\extensions\\\\ms-toolsai.jupyter-2021.8.1013163132\\\\pythonFiles\\\\lib\\\\python',\n",
       "  'D:\\\\Anaconda\\\\envs\\\\tisch\\\\python36.zip',\n",
       "  'D:\\\\Anaconda\\\\envs\\\\tisch\\\\DLLs',\n",
       "  'D:\\\\Anaconda\\\\envs\\\\tisch\\\\lib',\n",
       "  'D:\\\\Anaconda\\\\envs\\\\tisch',\n",
       "  '',\n",
       "  'D:\\\\Anaconda\\\\envs\\\\tisch\\\\lib\\\\site-packages',\n",
       "  'D:\\\\Anaconda\\\\envs\\\\tisch\\\\lib\\\\site-packages\\\\win32',\n",
       "  'D:\\\\Anaconda\\\\envs\\\\tisch\\\\lib\\\\site-packages\\\\win32\\\\lib',\n",
       "  'D:\\\\Anaconda\\\\envs\\\\tisch\\\\lib\\\\site-packages\\\\Pythonwin',\n",
       "  'D:\\\\Anaconda\\\\envs\\\\tisch\\\\lib\\\\site-packages\\\\IPython\\\\extensions',\n",
       "  'C:\\\\Users\\\\Somiparno\\\\.ipython'])"
      ]
     },
     "metadata": {},
     "execution_count": 1
    }
   ],
   "source": [
    "import sys\n",
    "sys.executable, sys.path"
   ]
  },
  {
   "cell_type": "code",
   "execution_count": 2,
   "id": "25f6e93f",
   "metadata": {},
   "outputs": [],
   "source": [
    "%reload_ext autoreload\n",
    "%autoreload 2"
   ]
  },
  {
   "cell_type": "code",
   "execution_count": 34,
   "id": "3f2ee5d6",
   "metadata": {},
   "outputs": [],
   "source": [
    "import tisch\n",
    "import numpy as np\n",
    "import random"
   ]
  },
  {
   "cell_type": "code",
   "execution_count": 46,
   "id": "7d376714",
   "metadata": {},
   "outputs": [],
   "source": [
    "df = tisch.DataTable({\"a\": np.array([int(random.random()) for _ in range(10000)]), \"b\": np.array([random.random() for _ in range(10000)])})"
   ]
  },
  {
   "cell_type": "code",
   "execution_count": 47,
   "metadata": {},
   "outputs": [
    {
     "output_type": "execute_result",
     "data": {
      "text/plain": [
       "<tisch.DataTable at 0x25d0ce1c438>"
      ],
      "text/html": "<table><thead><tr><th></th><th>Column Name</th><th>Data Type </th></tr></thead><tbody><tr><td><strong>0</strong></td><td>a         </td><td>integer   </td></tr><tr><td><strong>1</strong></td><td>b         </td><td>float     </td></tr></tbody></table>"
     },
     "metadata": {},
     "execution_count": 47
    }
   ],
   "source": [
    "df.dtypes"
   ]
  },
  {
   "cell_type": "code",
   "execution_count": 49,
   "metadata": {},
   "outputs": [],
   "source": [
    "df.columns = ['c', 'd']"
   ]
  },
  {
   "cell_type": "code",
   "execution_count": 50,
   "metadata": {},
   "outputs": [
    {
     "output_type": "execute_result",
     "data": {
      "text/plain": [
       "<tisch.DataTable at 0x25d0c3b8a90>"
      ],
      "text/html": "<table><thead><tr><th></th><th>Column Name</th><th>Data Type </th></tr></thead><tbody><tr><td><strong>0</strong></td><td>c         </td><td>integer   </td></tr><tr><td><strong>1</strong></td><td>d         </td><td>float     </td></tr></tbody></table>"
     },
     "metadata": {},
     "execution_count": 50
    }
   ],
   "source": [
    "df.dtypes"
   ]
  },
  {
   "cell_type": "code",
   "execution_count": 39,
   "metadata": {},
   "outputs": [
    {
     "output_type": "execute_result",
     "data": {
      "text/plain": [
       "array([[0.59073341, 0.65033641],\n",
       "       [0.60421726, 0.34753904],\n",
       "       [0.35610637, 0.43843013],\n",
       "       ...,\n",
       "       [0.92324076, 0.61643896],\n",
       "       [0.73363492, 0.85402391],\n",
       "       [0.46754792, 0.14115393]])"
      ]
     },
     "metadata": {},
     "execution_count": 39
    }
   ],
   "source": [
    "df.values"
   ]
  },
  {
   "cell_type": "code",
   "execution_count": null,
   "metadata": {},
   "outputs": [],
   "source": []
  }
 ],
 "metadata": {
  "kernelspec": {
   "name": "python3",
   "display_name": "Python 3.6.13 64-bit ('tisch': conda)"
  },
  "language_info": {
   "codemirror_mode": {
    "name": "ipython",
    "version": 3
   },
   "file_extension": ".py",
   "mimetype": "text/x-python",
   "name": "python",
   "nbconvert_exporter": "python",
   "pygments_lexer": "ipython3",
   "version": "3.6.13"
  },
  "interpreter": {
   "hash": "caeda533942cfc489fc69de82b6eb06ee6dab64546a4f2ef65b1dfe0e2b94600"
  }
 },
 "nbformat": 4,
 "nbformat_minor": 5
}