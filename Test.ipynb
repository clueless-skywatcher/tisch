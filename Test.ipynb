{
 "cells": [
  {
   "cell_type": "code",
   "execution_count": 2,
   "id": "68b40573",
   "metadata": {},
   "outputs": [
    {
     "output_type": "execute_result",
     "data": {
      "text/plain": [
       "('D:\\\\Anaconda\\\\envs\\\\tisch\\\\python.exe',\n",
       " ['d:\\\\python\\\\tisch',\n",
       "  'c:\\\\Users\\\\Somiparno\\\\.vscode\\\\extensions\\\\ms-toolsai.jupyter-2021.8.1013163132\\\\pythonFiles',\n",
       "  'c:\\\\Users\\\\Somiparno\\\\.vscode\\\\extensions\\\\ms-toolsai.jupyter-2021.8.1013163132\\\\pythonFiles\\\\lib\\\\python',\n",
       "  'D:\\\\Anaconda\\\\envs\\\\tisch\\\\python36.zip',\n",
       "  'D:\\\\Anaconda\\\\envs\\\\tisch\\\\DLLs',\n",
       "  'D:\\\\Anaconda\\\\envs\\\\tisch\\\\lib',\n",
       "  'D:\\\\Anaconda\\\\envs\\\\tisch',\n",
       "  '',\n",
       "  'D:\\\\Anaconda\\\\envs\\\\tisch\\\\lib\\\\site-packages',\n",
       "  'D:\\\\Anaconda\\\\envs\\\\tisch\\\\lib\\\\site-packages\\\\win32',\n",
       "  'D:\\\\Anaconda\\\\envs\\\\tisch\\\\lib\\\\site-packages\\\\win32\\\\lib',\n",
       "  'D:\\\\Anaconda\\\\envs\\\\tisch\\\\lib\\\\site-packages\\\\Pythonwin',\n",
       "  'D:\\\\Anaconda\\\\envs\\\\tisch\\\\lib\\\\site-packages\\\\IPython\\\\extensions',\n",
       "  'C:\\\\Users\\\\Somiparno\\\\.ipython'])"
      ]
     },
     "metadata": {},
     "execution_count": 2
    }
   ],
   "source": [
    "import sys\n",
    "sys.executable, sys.path"
   ]
  },
  {
   "cell_type": "code",
   "execution_count": 3,
   "id": "25f6e93f",
   "metadata": {},
   "outputs": [],
   "source": [
    "%reload_ext autoreload\n",
    "%autoreload 2"
   ]
  },
  {
   "cell_type": "code",
   "execution_count": 4,
   "id": "3f2ee5d6",
   "metadata": {},
   "outputs": [],
   "source": [
    "import tisch\n",
    "import numpy as np\n",
    "import random"
   ]
  },
  {
   "cell_type": "code",
   "execution_count": 5,
   "id": "7d376714",
   "metadata": {},
   "outputs": [],
   "source": [
    "df_tisch = tisch.DataTable({\n",
    "    \"above_18\": np.array([random.choice([True, False]) for _ in range(10000)]), \n",
    "    \"height\": np.array([random.random() for _ in range(10000)]), \n",
    "    \"weight\": np.array([i + 1 for i in range(10000)]),\n",
    "    \"school\": np.array([random.random() for _ in range(10000)]), \n",
    "    \"college\": np.array([random.random() for _ in range(10000)]), \n",
    "})"
   ]
  },
  {
   "cell_type": "code",
   "execution_count": 6,
   "id": "39cbf827",
   "metadata": {},
   "outputs": [
    {
     "output_type": "stream",
     "name": "stderr",
     "text": [
      "D:\\Anaconda\\envs\\tisch\\lib\\importlib\\_bootstrap.py:219: RuntimeWarning: numpy.ufunc size changed, may indicate binary incompatibility. Expected 192 from C header, got 216 from PyObject\n  return f(*args, **kwds)\n"
     ]
    }
   ],
   "source": [
    "import pandas as pd"
   ]
  },
  {
   "cell_type": "code",
   "execution_count": 7,
   "id": "850aa23a",
   "metadata": {},
   "outputs": [],
   "source": [
    "df_pandas = pd.DataFrame({\n",
    "    \"is_of_age\": np.array([random.choice([True, False]) for _ in range(10000)]), \n",
    "    \"height\": np.array([random.random() for _ in range(10000)]), \n",
    "    \"weight\": np.array([i + 1 for i in range(10000)])\n",
    "})"
   ]
  },
  {
   "cell_type": "code",
   "execution_count": 8,
   "id": "c818b596",
   "metadata": {},
   "outputs": [
    {
     "output_type": "execute_result",
     "data": {
      "text/plain": [
       "<tisch.DataTable at 0x244c8d69320>"
      ],
      "text/html": "<table><thead><tr><th></th><th>college   </th></tr></thead><tbody><tr><td><strong>0</strong></td><td>     0.921</td></tr><tr><td><strong>1</strong></td><td>     0.778</td></tr><tr><td><strong>2</strong></td><td>     0.575</td></tr><tr><td><strong>3</strong></td><td>     0.188</td></tr><tr><td><strong>4</strong></td><td>     0.800</td></tr><tr><td><strong>5</strong></td><td>     0.439</td></tr><tr><td><strong>6</strong></td><td>     0.890</td></tr><tr><td><strong>7</strong></td><td>     0.571</td></tr><tr><td><strong>8</strong></td><td>     0.960</td></tr><tr><td><strong>9</strong></td><td>     0.676</td></tr><tr><strong><td>...</td></strong><td>...</td></tr><tr><td><strong>40</strong></td><td>     0.196</td></tr><tr><td><strong>41</strong></td><td>     0.420</td></tr><tr><td><strong>42</strong></td><td>     0.616</td></tr><tr><td><strong>43</strong></td><td>     0.276</td></tr><tr><td><strong>44</strong></td><td>     0.617</td></tr><tr><td><strong>45</strong></td><td>     0.939</td></tr><tr><td><strong>46</strong></td><td>     0.957</td></tr><tr><td><strong>47</strong></td><td>     0.847</td></tr><tr><td><strong>48</strong></td><td>     0.452</td></tr><tr><td><strong>49</strong></td><td>     0.628</td></tr></tbody></table>"
     },
     "metadata": {},
     "execution_count": 8
    }
   ],
   "source": [
    "df_bool = df_tisch[0:50, 'college']\n",
    "df_bool"
   ]
  },
  {
   "cell_type": "code",
   "execution_count": 9,
   "id": "41677ae0",
   "metadata": {},
   "outputs": [],
   "source": [
    "df_tisch['all_true'] = np.array([i + 1 for i in range(len(df_tisch))])"
   ]
  },
  {
   "cell_type": "code",
   "execution_count": 10,
   "id": "86c5aede",
   "metadata": {},
   "outputs": [
    {
     "output_type": "execute_result",
     "data": {
      "text/plain": [
       "<tisch.DataTable at 0x244c8d3b080>"
      ],
      "text/html": "<table><thead><tr><th></th><th>above_18  </th><th>height    </th><th>weight    </th><th>school    </th><th>college   </th><th>all_true  </th></tr></thead><tbody><tr><td><strong>0</strong></td><td>True</td><td>     0.645</td><td>      9996</td><td>     0.181</td><td>     0.438</td><td>      9996</td></tr><tr><td><strong>1</strong></td><td>True</td><td>     0.110</td><td>      9997</td><td>     0.461</td><td>     0.758</td><td>      9997</td></tr><tr><td><strong>2</strong></td><td>True</td><td>     0.110</td><td>      9998</td><td>     0.137</td><td>     0.810</td><td>      9998</td></tr><tr><td><strong>3</strong></td><td>False</td><td>     0.720</td><td>      9999</td><td>     0.233</td><td>     0.441</td><td>      9999</td></tr><tr><td><strong>4</strong></td><td>True</td><td>     0.657</td><td>     10000</td><td>     0.797</td><td>     0.269</td><td>     10000</td></tr></tbody></table>"
     },
     "metadata": {},
     "execution_count": 10
    }
   ],
   "source": [
    "df_tisch.tail(n = 5)"
   ]
  },
  {
   "cell_type": "code",
   "execution_count": 11,
   "id": "4419fafe",
   "metadata": {},
   "outputs": [],
   "source": [
    "df_small = tisch.DataTable({\n",
    "    \"a\": np.array([None, 'b', None]),\n",
    "    \"b\": np.array([2, 1, None]),\n",
    "    \"c\": np.array([random.random() for _ in range(3)]),\n",
    "    \"d\": np.array([1, 2, 1])\n",
    "})"
   ]
  },
  {
   "cell_type": "code",
   "execution_count": 12,
   "id": "601e988b",
   "metadata": {},
   "outputs": [
    {
     "output_type": "execute_result",
     "data": {
      "text/plain": [
       "<tisch.DataTable at 0x244c98d74e0>"
      ],
      "text/html": "<table><thead><tr><th></th><th>a         </th><th>b         </th><th>c         </th><th>d         </th></tr></thead><tbody><tr><td><strong>0</strong></td><td>True</td><td>False</td><td>False</td><td>False</td></tr><tr><td><strong>1</strong></td><td>False</td><td>False</td><td>False</td><td>False</td></tr><tr><td><strong>2</strong></td><td>True</td><td>True</td><td>False</td><td>False</td></tr></tbody></table>"
     },
     "metadata": {},
     "execution_count": 12
    }
   ],
   "source": [
    "df_small.isna()"
   ]
  },
  {
   "cell_type": "code",
   "execution_count": 13,
   "id": "3ce0c11f",
   "metadata": {},
   "outputs": [
    {
     "output_type": "execute_result",
     "data": {
      "text/plain": [
       "<tisch.DataTable at 0x244c98d7550>"
      ],
      "text/html": "<table><thead><tr><th></th><th>a         </th><th>b         </th><th>c         </th><th>d         </th></tr></thead><tbody><tr><td><strong>0</strong></td><td>         1</td><td>         2</td><td>         3</td><td>         3</td></tr></tbody></table>"
     },
     "metadata": {},
     "execution_count": 13
    }
   ],
   "source": [
    "df_small.count()"
   ]
  },
  {
   "cell_type": "code",
   "execution_count": 14,
   "id": "e8e1216e",
   "metadata": {},
   "outputs": [],
   "source": [
    "dfs = df_small.unique()"
   ]
  },
  {
   "cell_type": "code",
   "execution_count": 15,
   "id": "eccdba96",
   "metadata": {},
   "outputs": [
    {
     "output_type": "execute_result",
     "data": {
      "text/plain": [
       "<tisch.DataTable at 0x244c98d76d8>"
      ],
      "text/html": "<table><thead><tr><th></th><th>a         </th></tr></thead><tbody><tr><td><strong>0</strong></td><td>b         </td></tr><tr><td><strong>1</strong></td><td>None      </td></tr></tbody></table>"
     },
     "metadata": {},
     "execution_count": 15
    }
   ],
   "source": [
    "dfs[0]"
   ]
  },
  {
   "cell_type": "code",
   "execution_count": 16,
   "id": "b1f3f29b",
   "metadata": {},
   "outputs": [
    {
     "output_type": "execute_result",
     "data": {
      "text/plain": [
       "<tisch.DataTable at 0x244c98d7940>"
      ],
      "text/html": "<table><thead><tr><th></th><th>b         </th></tr></thead><tbody><tr><td><strong>0</strong></td><td>         1</td></tr><tr><td><strong>1</strong></td><td>         2</td></tr><tr><td><strong>2</strong></td><td>None      </td></tr></tbody></table>"
     },
     "metadata": {},
     "execution_count": 16
    }
   ],
   "source": [
    "dfs[1]"
   ]
  },
  {
   "cell_type": "code",
   "execution_count": 17,
   "id": "6642abdd",
   "metadata": {},
   "outputs": [
    {
     "output_type": "execute_result",
     "data": {
      "text/plain": [
       "<tisch.DataTable at 0x244c98d7630>"
      ],
      "text/html": "<table><thead><tr><th></th><th>c         </th></tr></thead><tbody><tr><td><strong>0</strong></td><td>     0.335</td></tr><tr><td><strong>1</strong></td><td>     0.603</td></tr><tr><td><strong>2</strong></td><td>     0.188</td></tr></tbody></table>"
     },
     "metadata": {},
     "execution_count": 17
    }
   ],
   "source": [
    "dfs[2]"
   ]
  },
  {
   "cell_type": "code",
   "execution_count": 18,
   "id": "2ab683c0",
   "metadata": {},
   "outputs": [
    {
     "output_type": "execute_result",
     "data": {
      "text/plain": [
       "<tisch.DataTable at 0x244c98d79b0>"
      ],
      "text/html": "<table><thead><tr><th></th><th>d         </th></tr></thead><tbody><tr><td><strong>0</strong></td><td>         1</td></tr><tr><td><strong>1</strong></td><td>         2</td></tr></tbody></table>"
     },
     "metadata": {},
     "execution_count": 18
    }
   ],
   "source": [
    "dfs[3]"
   ]
  },
  {
   "cell_type": "code",
   "execution_count": 19,
   "id": "94afaed5",
   "metadata": {},
   "outputs": [
    {
     "output_type": "execute_result",
     "data": {
      "text/plain": [
       "<tisch.DataTable at 0x244c98d7c88>"
      ],
      "text/html": "<table><thead><tr><th></th><th>a         </th><th>b         </th><th>c         </th><th>d         </th></tr></thead><tbody><tr><td><strong>0</strong></td><td>         2</td><td>         3</td><td>         3</td><td>         2</td></tr></tbody></table>"
     },
     "metadata": {},
     "execution_count": 19
    }
   ],
   "source": [
    "df_small.nunique()"
   ]
  },
  {
   "cell_type": "code",
   "execution_count": 24,
   "id": "dcceca54",
   "metadata": {},
   "outputs": [],
   "source": [
    "from tisch import ArrayCounter\n",
    "\n",
    "arr = ArrayCounter(np.array([1, 2, 1, 1, 2, 3, np.nan, np.nan]))"
   ]
  },
  {
   "cell_type": "code",
   "execution_count": 26,
   "metadata": {},
   "outputs": [
    {
     "output_type": "execute_result",
     "data": {
      "text/plain": [
       "{1.0: 3, 2.0: 2, 3.0: 1, nan: 1, nan: 1}"
      ]
     },
     "metadata": {},
     "execution_count": 26
    }
   ],
   "source": [
    "arr._dict"
   ]
  },
  {
   "cell_type": "code",
   "execution_count": 35,
   "metadata": {},
   "outputs": [],
   "source": [
    "vc = df_small.val_counts(normalize=True)"
   ]
  },
  {
   "cell_type": "code",
   "execution_count": 40,
   "metadata": {},
   "outputs": [
    {
     "output_type": "execute_result",
     "data": {
      "text/plain": [
       "<tisch.DataTable at 0x244c99d3cc0>"
      ],
      "text/html": "<table><thead><tr><th></th><th>d         </th><th>count     </th></tr></thead><tbody><tr><td><strong>0</strong></td><td>         1</td><td>     0.667</td></tr><tr><td><strong>1</strong></td><td>         2</td><td>     0.333</td></tr></tbody></table>"
     },
     "metadata": {},
     "execution_count": 40
    }
   ],
   "source": [
    "vc[3]"
   ]
  },
  {
   "cell_type": "code",
   "execution_count": null,
   "metadata": {},
   "outputs": [],
   "source": []
  }
 ],
 "metadata": {
  "interpreter": {
   "hash": "caeda533942cfc489fc69de82b6eb06ee6dab64546a4f2ef65b1dfe0e2b94600"
  },
  "kernelspec": {
   "name": "python3",
   "display_name": "Python 3.6.13 64-bit ('tisch': conda)"
  },
  "language_info": {
   "codemirror_mode": {
    "name": "ipython",
    "version": 3
   },
   "file_extension": ".py",
   "mimetype": "text/x-python",
   "name": "python",
   "nbconvert_exporter": "python",
   "pygments_lexer": "ipython3",
   "version": "3.6.13"
  }
 },
 "nbformat": 4,
 "nbformat_minor": 5
}