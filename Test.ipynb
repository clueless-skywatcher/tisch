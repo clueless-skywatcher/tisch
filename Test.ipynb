{
 "cells": [
  {
   "cell_type": "code",
   "execution_count": 2,
   "id": "68b40573",
   "metadata": {},
   "outputs": [
    {
     "output_type": "execute_result",
     "data": {
      "text/plain": [
       "('D:\\\\Anaconda\\\\envs\\\\tisch\\\\python.exe',\n",
       " ['d:\\\\python\\\\tisch',\n",
       "  'c:\\\\Users\\\\Somiparno\\\\.vscode\\\\extensions\\\\ms-toolsai.jupyter-2021.8.1013163132\\\\pythonFiles',\n",
       "  'c:\\\\Users\\\\Somiparno\\\\.vscode\\\\extensions\\\\ms-toolsai.jupyter-2021.8.1013163132\\\\pythonFiles\\\\lib\\\\python',\n",
       "  'D:\\\\Anaconda\\\\envs\\\\tisch\\\\python36.zip',\n",
       "  'D:\\\\Anaconda\\\\envs\\\\tisch\\\\DLLs',\n",
       "  'D:\\\\Anaconda\\\\envs\\\\tisch\\\\lib',\n",
       "  'D:\\\\Anaconda\\\\envs\\\\tisch',\n",
       "  '',\n",
       "  'D:\\\\Anaconda\\\\envs\\\\tisch\\\\lib\\\\site-packages',\n",
       "  'D:\\\\Anaconda\\\\envs\\\\tisch\\\\lib\\\\site-packages\\\\win32',\n",
       "  'D:\\\\Anaconda\\\\envs\\\\tisch\\\\lib\\\\site-packages\\\\win32\\\\lib',\n",
       "  'D:\\\\Anaconda\\\\envs\\\\tisch\\\\lib\\\\site-packages\\\\Pythonwin',\n",
       "  'D:\\\\Anaconda\\\\envs\\\\tisch\\\\lib\\\\site-packages\\\\IPython\\\\extensions',\n",
       "  'C:\\\\Users\\\\Somiparno\\\\.ipython'])"
      ]
     },
     "metadata": {},
     "execution_count": 2
    }
   ],
   "source": [
    "import sys\n",
    "sys.executable, sys.path"
   ]
  },
  {
   "cell_type": "code",
   "execution_count": 3,
   "id": "25f6e93f",
   "metadata": {},
   "outputs": [],
   "source": [
    "%reload_ext autoreload\n",
    "%autoreload 2"
   ]
  },
  {
   "cell_type": "code",
   "execution_count": 4,
   "id": "3f2ee5d6",
   "metadata": {},
   "outputs": [],
   "source": [
    "import tisch\n",
    "import numpy as np\n",
    "import random"
   ]
  },
  {
   "cell_type": "code",
   "execution_count": 5,
   "id": "7d376714",
   "metadata": {},
   "outputs": [],
   "source": [
    "df_tisch = tisch.DataTable({\n",
    "    \"above_18\": np.array([random.choice([True, False]) for _ in range(10000)]), \n",
    "    \"height\": np.array([random.random() for _ in range(10000)]), \n",
    "    \"weight\": np.array([i + 1 for i in range(10000)]),\n",
    "    \"school\": np.array([random.random() for _ in range(10000)]), \n",
    "    \"college\": np.array([random.random() for _ in range(10000)]), \n",
    "})"
   ]
  },
  {
   "cell_type": "code",
   "execution_count": 6,
   "id": "39cbf827",
   "metadata": {},
   "outputs": [],
   "source": [
    "import pandas as pd"
   ]
  },
  {
   "cell_type": "code",
   "execution_count": 7,
   "id": "850aa23a",
   "metadata": {},
   "outputs": [],
   "source": [
    "df_pandas = pd.DataFrame({\n",
    "    \"is_of_age\": np.array([random.choice([True, False]) for _ in range(10000)]), \n",
    "    \"height\": np.array([random.random() for _ in range(10000)]), \n",
    "    \"weight\": np.array([i + 1 for i in range(10000)])\n",
    "})"
   ]
  },
  {
   "cell_type": "code",
   "execution_count": 8,
   "id": "c818b596",
   "metadata": {},
   "outputs": [
    {
     "output_type": "execute_result",
     "data": {
      "text/plain": [
       "<tisch.DataTable at 0x1cd48d9e5c0>"
      ],
      "text/html": "<table><thead><tr><th></th><th>college   </th></tr></thead><tbody><tr><td><strong>0</strong></td><td>     0.702</td></tr><tr><td><strong>1</strong></td><td>     0.367</td></tr><tr><td><strong>2</strong></td><td>     0.264</td></tr><tr><td><strong>3</strong></td><td>     0.629</td></tr><tr><td><strong>4</strong></td><td>     0.408</td></tr><tr><td><strong>5</strong></td><td>     0.371</td></tr><tr><td><strong>6</strong></td><td>     0.008</td></tr><tr><td><strong>7</strong></td><td>     0.106</td></tr><tr><td><strong>8</strong></td><td>     0.624</td></tr><tr><td><strong>9</strong></td><td>     0.640</td></tr><tr><strong><td>...</td></strong><td>...</td></tr><tr><td><strong>40</strong></td><td>     0.815</td></tr><tr><td><strong>41</strong></td><td>     0.746</td></tr><tr><td><strong>42</strong></td><td>     0.971</td></tr><tr><td><strong>43</strong></td><td>     0.084</td></tr><tr><td><strong>44</strong></td><td>     0.348</td></tr><tr><td><strong>45</strong></td><td>     0.622</td></tr><tr><td><strong>46</strong></td><td>     0.402</td></tr><tr><td><strong>47</strong></td><td>     0.596</td></tr><tr><td><strong>48</strong></td><td>     0.771</td></tr><tr><td><strong>49</strong></td><td>     0.511</td></tr></tbody></table>"
     },
     "metadata": {},
     "execution_count": 8
    }
   ],
   "source": [
    "df_bool = df_tisch[0:50, 'college']\n",
    "df_bool"
   ]
  },
  {
   "cell_type": "code",
   "execution_count": 9,
   "id": "41677ae0",
   "metadata": {},
   "outputs": [],
   "source": [
    "df_tisch['all_true'] = np.array([i + 1 for i in range(len(df_tisch))])"
   ]
  },
  {
   "cell_type": "code",
   "execution_count": 10,
   "id": "86c5aede",
   "metadata": {},
   "outputs": [
    {
     "output_type": "execute_result",
     "data": {
      "text/plain": [
       "<tisch.DataTable at 0x1cd48d9e630>"
      ],
      "text/html": "<table><thead><tr><th></th><th>above_18  </th><th>height    </th><th>weight    </th><th>school    </th><th>college   </th><th>all_true  </th></tr></thead><tbody><tr><td><strong>0</strong></td><td>True</td><td>     0.745</td><td>      9996</td><td>     0.876</td><td>     0.346</td><td>      9996</td></tr><tr><td><strong>1</strong></td><td>False</td><td>     0.885</td><td>      9997</td><td>     0.371</td><td>     0.022</td><td>      9997</td></tr><tr><td><strong>2</strong></td><td>False</td><td>     0.085</td><td>      9998</td><td>     0.470</td><td>     0.090</td><td>      9998</td></tr><tr><td><strong>3</strong></td><td>False</td><td>     0.763</td><td>      9999</td><td>     0.920</td><td>     0.721</td><td>      9999</td></tr><tr><td><strong>4</strong></td><td>False</td><td>     0.014</td><td>     10000</td><td>     0.540</td><td>     0.589</td><td>     10000</td></tr></tbody></table>"
     },
     "metadata": {},
     "execution_count": 10
    }
   ],
   "source": [
    "df_tisch.tail(n = 5)"
   ]
  },
  {
   "cell_type": "code",
   "execution_count": 68,
   "id": "4419fafe",
   "metadata": {},
   "outputs": [],
   "source": [
    "df_small = tisch.DataTable({\n",
    "    \"a\": np.array([1, 8, 1]),\n",
    "    \"b\": np.array([1, 1, 8]),\n",
    "    \"c\": np.array([3, 2, 1]),\n",
    "    \"d\": np.array([1, 2, 1])\n",
    "})"
   ]
  },
  {
   "cell_type": "code",
   "execution_count": 69,
   "id": "601e988b",
   "metadata": {},
   "outputs": [
    {
     "output_type": "execute_result",
     "data": {
      "text/plain": [
       "<tisch.DataTable at 0x1cd48e2f828>"
      ],
      "text/html": "<table><thead><tr><th></th><th>a         </th><th>b         </th><th>c         </th><th>d         </th></tr></thead><tbody><tr><td><strong>0</strong></td><td>False</td><td>False</td><td>False</td><td>False</td></tr><tr><td><strong>1</strong></td><td>False</td><td>False</td><td>False</td><td>False</td></tr><tr><td><strong>2</strong></td><td>False</td><td>False</td><td>False</td><td>False</td></tr></tbody></table>"
     },
     "metadata": {},
     "execution_count": 69
    }
   ],
   "source": [
    "df_small.isna()"
   ]
  },
  {
   "cell_type": "code",
   "execution_count": 70,
   "id": "3ce0c11f",
   "metadata": {},
   "outputs": [
    {
     "output_type": "execute_result",
     "data": {
      "text/plain": [
       "<tisch.DataTable at 0x1cd48e2fa20>"
      ],
      "text/html": "<table><thead><tr><th></th><th>a         </th><th>b         </th><th>c         </th><th>d         </th></tr></thead><tbody><tr><td><strong>0</strong></td><td>         3</td><td>         3</td><td>         3</td><td>         3</td></tr></tbody></table>"
     },
     "metadata": {},
     "execution_count": 70
    }
   ],
   "source": [
    "df_small.count()"
   ]
  },
  {
   "cell_type": "code",
   "execution_count": 71,
   "id": "e8e1216e",
   "metadata": {},
   "outputs": [],
   "source": [
    "dfs = df_small.unique()"
   ]
  },
  {
   "cell_type": "code",
   "execution_count": 72,
   "id": "eccdba96",
   "metadata": {},
   "outputs": [
    {
     "output_type": "execute_result",
     "data": {
      "text/plain": [
       "<tisch.DataTable at 0x1cd48e2f588>"
      ],
      "text/html": "<table><thead><tr><th></th><th>a         </th></tr></thead><tbody><tr><td><strong>0</strong></td><td>         8</td></tr><tr><td><strong>1</strong></td><td>         1</td></tr></tbody></table>"
     },
     "metadata": {},
     "execution_count": 72
    }
   ],
   "source": [
    "dfs[0]"
   ]
  },
  {
   "cell_type": "code",
   "execution_count": 73,
   "id": "b1f3f29b",
   "metadata": {},
   "outputs": [
    {
     "output_type": "execute_result",
     "data": {
      "text/plain": [
       "<tisch.DataTable at 0x1cd48e35588>"
      ],
      "text/html": "<table><thead><tr><th></th><th>b         </th></tr></thead><tbody><tr><td><strong>0</strong></td><td>         8</td></tr><tr><td><strong>1</strong></td><td>         1</td></tr></tbody></table>"
     },
     "metadata": {},
     "execution_count": 73
    }
   ],
   "source": [
    "dfs[1]"
   ]
  },
  {
   "cell_type": "code",
   "execution_count": 74,
   "id": "6642abdd",
   "metadata": {},
   "outputs": [
    {
     "output_type": "execute_result",
     "data": {
      "text/plain": [
       "<tisch.DataTable at 0x1cd48e35f28>"
      ],
      "text/html": "<table><thead><tr><th></th><th>c         </th></tr></thead><tbody><tr><td><strong>0</strong></td><td>         1</td></tr><tr><td><strong>1</strong></td><td>         2</td></tr><tr><td><strong>2</strong></td><td>         3</td></tr></tbody></table>"
     },
     "metadata": {},
     "execution_count": 74
    }
   ],
   "source": [
    "dfs[2]"
   ]
  },
  {
   "cell_type": "code",
   "execution_count": 75,
   "id": "2ab683c0",
   "metadata": {},
   "outputs": [
    {
     "output_type": "execute_result",
     "data": {
      "text/plain": [
       "<tisch.DataTable at 0x1cd48e35080>"
      ],
      "text/html": "<table><thead><tr><th></th><th>d         </th></tr></thead><tbody><tr><td><strong>0</strong></td><td>         1</td></tr><tr><td><strong>1</strong></td><td>         2</td></tr></tbody></table>"
     },
     "metadata": {},
     "execution_count": 75
    }
   ],
   "source": [
    "dfs[3]"
   ]
  },
  {
   "cell_type": "code",
   "execution_count": 76,
   "id": "94afaed5",
   "metadata": {},
   "outputs": [
    {
     "output_type": "execute_result",
     "data": {
      "text/plain": [
       "<tisch.DataTable at 0x1cd48e25048>"
      ],
      "text/html": "<table><thead><tr><th></th><th>a         </th><th>b         </th><th>c         </th><th>d         </th></tr></thead><tbody><tr><td><strong>0</strong></td><td>         2</td><td>         2</td><td>         3</td><td>         2</td></tr></tbody></table>"
     },
     "metadata": {},
     "execution_count": 76
    }
   ],
   "source": [
    "df_small.nunique()"
   ]
  },
  {
   "cell_type": "code",
   "execution_count": 77,
   "id": "dcceca54",
   "metadata": {},
   "outputs": [],
   "source": [
    "from tisch import ArrayCounter\n",
    "\n",
    "arr = ArrayCounter(np.array([1, 2, 1, 1, 2, 3, np.nan, np.nan]))"
   ]
  },
  {
   "cell_type": "code",
   "execution_count": 78,
   "metadata": {},
   "outputs": [
    {
     "output_type": "execute_result",
     "data": {
      "text/plain": [
       "{1.0: 3, 2.0: 2, 3.0: 1, nan: 1, nan: 1}"
      ]
     },
     "metadata": {},
     "execution_count": 78
    }
   ],
   "source": [
    "arr._dict"
   ]
  },
  {
   "cell_type": "code",
   "execution_count": 79,
   "metadata": {},
   "outputs": [],
   "source": [
    "vc = df_small.val_counts(normalize=True)"
   ]
  },
  {
   "cell_type": "code",
   "execution_count": 80,
   "metadata": {},
   "outputs": [
    {
     "output_type": "execute_result",
     "data": {
      "text/plain": [
       "<tisch.DataTable at 0x1cd48fa6198>"
      ],
      "text/html": "<table><thead><tr><th></th><th>d         </th><th>count     </th></tr></thead><tbody><tr><td><strong>0</strong></td><td>         1</td><td>     0.667</td></tr><tr><td><strong>1</strong></td><td>         2</td><td>     0.333</td></tr></tbody></table>"
     },
     "metadata": {},
     "execution_count": 80
    }
   ],
   "source": [
    "vc[3]"
   ]
  },
  {
   "cell_type": "code",
   "execution_count": 81,
   "metadata": {},
   "outputs": [
    {
     "output_type": "execute_result",
     "data": {
      "text/plain": [
       "<tisch.DataTable at 0x1cd48fa3f60>"
      ],
      "text/html": "<table><thead><tr><th></th><th>apple     </th><th>ball      </th><th>cat       </th><th>dog       </th></tr></thead><tbody><tr><td><strong>0</strong></td><td>         1</td><td>         1</td><td>         3</td><td>         1</td></tr><tr><td><strong>1</strong></td><td>         8</td><td>         1</td><td>         2</td><td>         2</td></tr><tr><td><strong>2</strong></td><td>         1</td><td>         8</td><td>         1</td><td>         1</td></tr></tbody></table>"
     },
     "metadata": {},
     "execution_count": 81
    }
   ],
   "source": [
    "df_small.rename({\n",
    "    'a': 'apple',\n",
    "    'b': 'ball',\n",
    "    'c': 'cat',\n",
    "    'd': 'dog'\n",
    "})"
   ]
  },
  {
   "cell_type": "code",
   "execution_count": 82,
   "metadata": {},
   "outputs": [
    {
     "output_type": "execute_result",
     "data": {
      "text/plain": [
       "<tisch.DataTable at 0x1cd48fa38d0>"
      ],
      "text/html": "<table><thead><tr><th></th><th>a         </th><th>d         </th></tr></thead><tbody><tr><td><strong>0</strong></td><td>         1</td><td>         1</td></tr><tr><td><strong>1</strong></td><td>         8</td><td>         2</td></tr><tr><td><strong>2</strong></td><td>         1</td><td>         1</td></tr></tbody></table>"
     },
     "metadata": {},
     "execution_count": 82
    }
   ],
   "source": [
    "df_small.drop(['b', 'c'])"
   ]
  },
  {
   "cell_type": "code",
   "execution_count": 83,
   "metadata": {},
   "outputs": [
    {
     "output_type": "execute_result",
     "data": {
      "text/plain": [
       "<tisch.DataTable at 0x1cd48fa3c88>"
      ],
      "text/html": "<table><thead><tr><th></th><th>a         </th><th>b         </th><th>c         </th><th>d         </th></tr></thead><tbody><tr><td><strong>0</strong></td><td>       nan</td><td>       nan</td><td>       nan</td><td>       nan</td></tr><tr><td><strong>1</strong></td><td>     7.000</td><td>     0.000</td><td>    -1.000</td><td>     1.000</td></tr><tr><td><strong>2</strong></td><td>    -7.000</td><td>     7.000</td><td>    -1.000</td><td>    -1.000</td></tr></tbody></table>"
     },
     "metadata": {},
     "execution_count": 83
    }
   ],
   "source": [
    "df_small.diff(n = 1)"
   ]
  },
  {
   "cell_type": "code",
   "execution_count": 85,
   "metadata": {},
   "outputs": [
    {
     "output_type": "execute_result",
     "data": {
      "text/plain": [
       "<tisch.DataTable at 0x1cd48f33e10>"
      ],
      "text/html": "<table><thead><tr><th></th><th>a         </th><th>b         </th><th>c         </th><th>d         </th></tr></thead><tbody><tr><td><strong>0</strong></td><td>         8</td><td>         1</td><td>         2</td><td>         2</td></tr><tr><td><strong>1</strong></td><td>         1</td><td>         1</td><td>         3</td><td>         1</td></tr><tr><td><strong>2</strong></td><td>         1</td><td>         8</td><td>         1</td><td>         1</td></tr></tbody></table>"
     },
     "metadata": {},
     "execution_count": 85
    }
   ],
   "source": [
    "df_small.sort_vals(['b', 'c'], ascending = True)"
   ]
  },
  {
   "cell_type": "code",
   "execution_count": 86,
   "metadata": {},
   "outputs": [
    {
     "output_type": "execute_result",
     "data": {
      "text/plain": [
       "<tisch.DataTable at 0x1cd48ee2da0>"
      ],
      "text/html": "<table><thead><tr><th></th><th>a         </th><th>b         </th><th>c         </th><th>d         </th></tr></thead><tbody><tr><td><strong>0</strong></td><td>         1</td><td>         1</td><td>         3</td><td>         1</td></tr><tr><td><strong>1</strong></td><td>         8</td><td>         1</td><td>         2</td><td>         2</td></tr></tbody></table>"
     },
     "metadata": {},
     "execution_count": 86
    }
   ],
   "source": [
    "df_small[[0, 1], :]"
   ]
  },
  {
   "cell_type": "code",
   "execution_count": 107,
   "metadata": {},
   "outputs": [
    {
     "output_type": "execute_result",
     "data": {
      "text/plain": [
       "<tisch.DataTable at 0x1cd48eec2b0>"
      ],
      "text/html": "<table><thead><tr><th></th><th>a         </th><th>b         </th><th>c         </th><th>d         </th></tr></thead><tbody><tr><td><strong>0</strong></td><td>         1</td><td>         1</td><td>         3</td><td>         1</td></tr></tbody></table>"
     },
     "metadata": {},
     "execution_count": 107
    }
   ],
   "source": [
    "df_small.sample(replace=True)"
   ]
  },
  {
   "cell_type": "code",
   "execution_count": null,
   "metadata": {},
   "outputs": [],
   "source": []
  },
  {
   "cell_type": "code",
   "execution_count": null,
   "metadata": {},
   "outputs": [],
   "source": []
  }
 ],
 "metadata": {
  "interpreter": {
   "hash": "caeda533942cfc489fc69de82b6eb06ee6dab64546a4f2ef65b1dfe0e2b94600"
  },
  "kernelspec": {
   "name": "python3",
   "display_name": "Python 3.6.13 64-bit ('tisch': conda)"
  },
  "language_info": {
   "codemirror_mode": {
    "name": "ipython",
    "version": 3
   },
   "file_extension": ".py",
   "mimetype": "text/x-python",
   "name": "python",
   "nbconvert_exporter": "python",
   "pygments_lexer": "ipython3",
   "version": "3.6.13"
  }
 },
 "nbformat": 4,
 "nbformat_minor": 5
}