{
 "cells": [
  {
   "cell_type": "code",
   "execution_count": 1,
   "id": "68b40573",
   "metadata": {},
   "outputs": [
    {
     "output_type": "execute_result",
     "data": {
      "text/plain": [
       "('D:\\\\Anaconda\\\\envs\\\\tisch\\\\python.exe',\n",
       " ['d:\\\\python\\\\tisch',\n",
       "  'c:\\\\Users\\\\Somiparno\\\\.vscode\\\\extensions\\\\ms-toolsai.jupyter-2021.8.1013163132\\\\pythonFiles\\\\vscode_datascience_helpers',\n",
       "  'c:\\\\Users\\\\Somiparno\\\\.vscode\\\\extensions\\\\ms-toolsai.jupyter-2021.8.1013163132\\\\pythonFiles',\n",
       "  'c:\\\\Users\\\\Somiparno\\\\.vscode\\\\extensions\\\\ms-toolsai.jupyter-2021.8.1013163132\\\\pythonFiles\\\\lib\\\\python',\n",
       "  'D:\\\\Anaconda\\\\envs\\\\tisch\\\\python36.zip',\n",
       "  'D:\\\\Anaconda\\\\envs\\\\tisch\\\\DLLs',\n",
       "  'D:\\\\Anaconda\\\\envs\\\\tisch\\\\lib',\n",
       "  'D:\\\\Anaconda\\\\envs\\\\tisch',\n",
       "  '',\n",
       "  'D:\\\\Anaconda\\\\envs\\\\tisch\\\\lib\\\\site-packages',\n",
       "  'D:\\\\Anaconda\\\\envs\\\\tisch\\\\lib\\\\site-packages\\\\win32',\n",
       "  'D:\\\\Anaconda\\\\envs\\\\tisch\\\\lib\\\\site-packages\\\\win32\\\\lib',\n",
       "  'D:\\\\Anaconda\\\\envs\\\\tisch\\\\lib\\\\site-packages\\\\Pythonwin',\n",
       "  'D:\\\\Anaconda\\\\envs\\\\tisch\\\\lib\\\\site-packages\\\\IPython\\\\extensions',\n",
       "  'C:\\\\Users\\\\Somiparno\\\\.ipython'])"
      ]
     },
     "metadata": {},
     "execution_count": 1
    }
   ],
   "source": [
    "import sys\n",
    "sys.executable, sys.path"
   ]
  },
  {
   "cell_type": "code",
   "execution_count": 2,
   "id": "25f6e93f",
   "metadata": {},
   "outputs": [],
   "source": [
    "%reload_ext autoreload\n",
    "%autoreload 2"
   ]
  },
  {
   "cell_type": "code",
   "execution_count": 3,
   "id": "3f2ee5d6",
   "metadata": {},
   "outputs": [],
   "source": [
    "import tisch\n",
    "import numpy as np\n",
    "import random"
   ]
  },
  {
   "cell_type": "code",
   "execution_count": 25,
   "id": "7d376714",
   "metadata": {},
   "outputs": [],
   "source": [
    "df_tisch = tisch.DataTable({\n",
    "    \"above_18\": np.array([random.choice([True, False]) for _ in range(10000)]), \n",
    "    \"height\": np.array([random.random() for _ in range(10000)]), \n",
    "    \"weight\": np.array([i + 1 for i in range(10000)]),\n",
    "    \"school\": np.array([random.random() for _ in range(10000)]), \n",
    "    \"college\": np.array([random.random() for _ in range(10000)]), \n",
    "})"
   ]
  },
  {
   "cell_type": "code",
   "execution_count": 26,
   "metadata": {},
   "outputs": [],
   "source": [
    "import pandas as pd"
   ]
  },
  {
   "cell_type": "code",
   "execution_count": 27,
   "metadata": {},
   "outputs": [],
   "source": [
    "df_pandas = pd.DataFrame({\n",
    "    \"is_of_age\": np.array([random.choice([True, False]) for _ in range(10000)]), \n",
    "    \"height\": np.array([random.random() for _ in range(10000)]), \n",
    "    \"weight\": np.array([i + 1 for i in range(10000)])\n",
    "})"
   ]
  },
  {
   "cell_type": "code",
   "execution_count": 28,
   "metadata": {},
   "outputs": [
    {
     "output_type": "error",
     "ename": "KeyError",
     "evalue": "'b'",
     "traceback": [
      "\u001b[1;31m---------------------------------------------------------------------------\u001b[0m",
      "\u001b[1;31mKeyError\u001b[0m                                  Traceback (most recent call last)",
      "\u001b[1;32m<ipython-input-28-0e09e381044d>\u001b[0m in \u001b[0;36m<module>\u001b[1;34m\u001b[0m\n\u001b[1;32m----> 1\u001b[1;33m \u001b[0mdf_bool\u001b[0m \u001b[1;33m=\u001b[0m \u001b[0mdf_tisch\u001b[0m\u001b[1;33m[\u001b[0m\u001b[1;36m0\u001b[0m\u001b[1;33m:\u001b[0m\u001b[1;36m501\u001b[0m\u001b[1;33m,\u001b[0m \u001b[1;34m'b'\u001b[0m\u001b[1;33m]\u001b[0m\u001b[1;33m\u001b[0m\u001b[1;33m\u001b[0m\u001b[0m\n\u001b[0m\u001b[0;32m      2\u001b[0m \u001b[0mdf_bool\u001b[0m\u001b[1;33m\u001b[0m\u001b[1;33m\u001b[0m\u001b[0m\n",
      "\u001b[1;32md:\\python\\tisch\\tisch\\__init__.py\u001b[0m in \u001b[0;36m__getitem__\u001b[1;34m(self, index)\u001b[0m\n\u001b[0;32m    238\u001b[0m \u001b[1;33m\u001b[0m\u001b[0m\n\u001b[0;32m    239\u001b[0m         \u001b[1;32mif\u001b[0m \u001b[0misinstance\u001b[0m\u001b[1;33m(\u001b[0m\u001b[0mindex\u001b[0m\u001b[1;33m,\u001b[0m \u001b[0mtuple\u001b[0m\u001b[1;33m)\u001b[0m\u001b[1;33m:\u001b[0m\u001b[1;33m\u001b[0m\u001b[1;33m\u001b[0m\u001b[0m\n\u001b[1;32m--> 240\u001b[1;33m             \u001b[1;32mreturn\u001b[0m \u001b[0mself\u001b[0m\u001b[1;33m.\u001b[0m\u001b[0m_getitem_tuple\u001b[0m\u001b[1;33m(\u001b[0m\u001b[0mindex\u001b[0m\u001b[1;33m)\u001b[0m\u001b[1;33m\u001b[0m\u001b[1;33m\u001b[0m\u001b[0m\n\u001b[0m\u001b[0;32m    241\u001b[0m \u001b[1;33m\u001b[0m\u001b[0m\n\u001b[0;32m    242\u001b[0m         \u001b[1;32mraise\u001b[0m \u001b[0mTypeError\u001b[0m\u001b[1;33m(\u001b[0m\u001b[1;34m\"Wrong data type entered. Pass either a string, tuple, list or DataTable\"\u001b[0m\u001b[1;33m)\u001b[0m\u001b[1;33m\u001b[0m\u001b[1;33m\u001b[0m\u001b[0m\n",
      "\u001b[1;32md:\\python\\tisch\\tisch\\__init__.py\u001b[0m in \u001b[0;36m_getitem_tuple\u001b[1;34m(self, index)\u001b[0m\n\u001b[0;32m    294\u001b[0m         \u001b[0mdata\u001b[0m \u001b[1;33m=\u001b[0m \u001b[1;33m{\u001b[0m\u001b[1;33m}\u001b[0m\u001b[1;33m\u001b[0m\u001b[1;33m\u001b[0m\u001b[0m\n\u001b[0;32m    295\u001b[0m         \u001b[1;32mfor\u001b[0m \u001b[0mc\u001b[0m \u001b[1;32min\u001b[0m \u001b[0mcol\u001b[0m\u001b[1;33m:\u001b[0m\u001b[1;33m\u001b[0m\u001b[1;33m\u001b[0m\u001b[0m\n\u001b[1;32m--> 296\u001b[1;33m             \u001b[0mdata\u001b[0m\u001b[1;33m[\u001b[0m\u001b[0mc\u001b[0m\u001b[1;33m]\u001b[0m \u001b[1;33m=\u001b[0m \u001b[0mself\u001b[0m\u001b[1;33m.\u001b[0m\u001b[0m_data\u001b[0m\u001b[1;33m[\u001b[0m\u001b[0mc\u001b[0m\u001b[1;33m]\u001b[0m\u001b[1;33m[\u001b[0m\u001b[0mrow\u001b[0m\u001b[1;33m]\u001b[0m\u001b[1;33m\u001b[0m\u001b[1;33m\u001b[0m\u001b[0m\n\u001b[0m\u001b[0;32m    297\u001b[0m \u001b[1;33m\u001b[0m\u001b[0m\n\u001b[0;32m    298\u001b[0m         \u001b[1;32mreturn\u001b[0m \u001b[0mDataTable\u001b[0m\u001b[1;33m(\u001b[0m\u001b[0mdata\u001b[0m\u001b[1;33m)\u001b[0m\u001b[1;33m\u001b[0m\u001b[1;33m\u001b[0m\u001b[0m\n",
      "\u001b[1;31mKeyError\u001b[0m: 'b'"
     ]
    }
   ],
   "source": [
    "df_bool = df_tisch[0:501, 'b']\n",
    "df_bool"
   ]
  },
  {
   "cell_type": "code",
   "execution_count": 39,
   "metadata": {},
   "outputs": [
    {
     "output_type": "error",
     "ename": "ValueError",
     "evalue": "Length of array must match DataTable's length",
     "traceback": [
      "\u001b[1;31m---------------------------------------------------------------------------\u001b[0m",
      "\u001b[1;31mValueError\u001b[0m                                Traceback (most recent call last)",
      "\u001b[1;32m<ipython-input-39-15f71371a9d8>\u001b[0m in \u001b[0;36m<module>\u001b[1;34m\u001b[0m\n\u001b[1;32m----> 1\u001b[1;33m \u001b[0mdf_tisch\u001b[0m\u001b[1;33m[\u001b[0m\u001b[1;34m'all_true'\u001b[0m\u001b[1;33m]\u001b[0m \u001b[1;33m=\u001b[0m \u001b[0mnp\u001b[0m\u001b[1;33m.\u001b[0m\u001b[0marray\u001b[0m\u001b[1;33m(\u001b[0m\u001b[1;33m[\u001b[0m\u001b[0mi\u001b[0m \u001b[1;33m+\u001b[0m \u001b[1;36m1\u001b[0m \u001b[1;32mfor\u001b[0m \u001b[0mi\u001b[0m \u001b[1;32min\u001b[0m \u001b[0mrange\u001b[0m\u001b[1;33m(\u001b[0m\u001b[0mlen\u001b[0m\u001b[1;33m(\u001b[0m\u001b[0mdf_tisch\u001b[0m\u001b[1;33m)\u001b[0m \u001b[1;33m-\u001b[0m \u001b[1;36m1\u001b[0m\u001b[1;33m)\u001b[0m\u001b[1;33m]\u001b[0m\u001b[1;33m)\u001b[0m\u001b[1;33m\u001b[0m\u001b[1;33m\u001b[0m\u001b[0m\n\u001b[0m",
      "\u001b[1;32md:\\python\\tisch\\tisch\\__init__.py\u001b[0m in \u001b[0;36m__setitem__\u001b[1;34m(self, key, value)\u001b[0m\n\u001b[0;32m    308\u001b[0m                 \u001b[1;32mraise\u001b[0m \u001b[0mValueError\u001b[0m\u001b[1;33m(\u001b[0m\u001b[1;34m\"Value must be one-dimensional array\"\u001b[0m\u001b[1;33m)\u001b[0m\u001b[1;33m\u001b[0m\u001b[1;33m\u001b[0m\u001b[0m\n\u001b[0;32m    309\u001b[0m             \u001b[1;32mif\u001b[0m \u001b[0mlen\u001b[0m\u001b[1;33m(\u001b[0m\u001b[0mvalue\u001b[0m\u001b[1;33m)\u001b[0m \u001b[1;33m!=\u001b[0m \u001b[0mlen\u001b[0m\u001b[1;33m(\u001b[0m\u001b[0mself\u001b[0m\u001b[1;33m)\u001b[0m\u001b[1;33m:\u001b[0m\u001b[1;33m\u001b[0m\u001b[1;33m\u001b[0m\u001b[0m\n\u001b[1;32m--> 310\u001b[1;33m                 \u001b[1;32mraise\u001b[0m \u001b[0mValueError\u001b[0m\u001b[1;33m(\u001b[0m\u001b[1;34m\"Length of array must match DataTable's length\"\u001b[0m\u001b[1;33m)\u001b[0m\u001b[1;33m\u001b[0m\u001b[1;33m\u001b[0m\u001b[0m\n\u001b[0m\u001b[0;32m    311\u001b[0m         \u001b[1;32melif\u001b[0m \u001b[0misinstance\u001b[0m\u001b[1;33m(\u001b[0m\u001b[0mvalue\u001b[0m\u001b[1;33m,\u001b[0m \u001b[0mDataTable\u001b[0m\u001b[1;33m)\u001b[0m\u001b[1;33m:\u001b[0m\u001b[1;33m\u001b[0m\u001b[1;33m\u001b[0m\u001b[0m\n\u001b[0;32m    312\u001b[0m             \u001b[1;32mif\u001b[0m \u001b[0mvalue\u001b[0m\u001b[1;33m.\u001b[0m\u001b[0mshape\u001b[0m\u001b[1;33m[\u001b[0m\u001b[1;36m1\u001b[0m\u001b[1;33m]\u001b[0m \u001b[1;33m!=\u001b[0m \u001b[1;36m1\u001b[0m\u001b[1;33m:\u001b[0m\u001b[1;33m\u001b[0m\u001b[1;33m\u001b[0m\u001b[0m\n",
      "\u001b[1;31mValueError\u001b[0m: Length of array must match DataTable's length"
     ]
    }
   ],
   "source": [
    "df_tisch['all_true'] = np.array([i + 1 for i in range(len(df_tisch))])"
   ]
  },
  {
   "cell_type": "code",
   "execution_count": 38,
   "metadata": {},
   "outputs": [
    {
     "output_type": "execute_result",
     "data": {
      "text/plain": [
       "<tisch.DataTable at 0x1de6abed128>"
      ],
      "text/html": "<table><thead><tr><th></th><th>above_18  </th><th>height    </th><th>weight    </th><th>school    </th><th>college   </th><th>all_true  </th></tr></thead><tbody><tr><td><strong>0</strong></td><td>False</td><td>     0.787</td><td>         1</td><td>     0.203</td><td>     0.972</td><td>         1</td></tr><tr><td><strong>1</strong></td><td>False</td><td>     0.406</td><td>         2</td><td>     0.558</td><td>     0.171</td><td>         2</td></tr><tr><td><strong>2</strong></td><td>True</td><td>     0.870</td><td>         3</td><td>     0.032</td><td>     0.632</td><td>         3</td></tr><tr><td><strong>3</strong></td><td>False</td><td>     0.709</td><td>         4</td><td>     0.354</td><td>     0.518</td><td>         4</td></tr><tr><td><strong>4</strong></td><td>True</td><td>     0.891</td><td>         5</td><td>     0.732</td><td>     0.608</td><td>         5</td></tr><tr><td><strong>5</strong></td><td>True</td><td>     0.188</td><td>         6</td><td>     0.323</td><td>     0.545</td><td>         6</td></tr><tr><td><strong>6</strong></td><td>False</td><td>     0.368</td><td>         7</td><td>     0.183</td><td>     0.887</td><td>         7</td></tr><tr><td><strong>7</strong></td><td>False</td><td>     0.807</td><td>         8</td><td>     0.265</td><td>     0.694</td><td>         8</td></tr><tr><td><strong>8</strong></td><td>False</td><td>     0.708</td><td>         9</td><td>     0.173</td><td>     0.647</td><td>         9</td></tr><tr><td><strong>9</strong></td><td>False</td><td>     0.861</td><td>        10</td><td>     0.036</td><td>     0.713</td><td>        10</td></tr><tr><strong><td>...</td></strong><td>...</td><td>...</td><td>...</td><td>...</td><td>...</td><td>...</td></tr><tr><td><strong>9990</strong></td><td>False</td><td>     0.328</td><td>      9991</td><td>     0.661</td><td>     0.543</td><td>      9991</td></tr><tr><td><strong>9991</strong></td><td>True</td><td>     0.620</td><td>      9992</td><td>     0.147</td><td>     0.531</td><td>      9992</td></tr><tr><td><strong>9992</strong></td><td>True</td><td>     0.865</td><td>      9993</td><td>     0.852</td><td>     0.661</td><td>      9993</td></tr><tr><td><strong>9993</strong></td><td>False</td><td>     0.866</td><td>      9994</td><td>     0.152</td><td>     0.663</td><td>      9994</td></tr><tr><td><strong>9994</strong></td><td>False</td><td>     0.132</td><td>      9995</td><td>     0.754</td><td>     0.398</td><td>      9995</td></tr><tr><td><strong>9995</strong></td><td>False</td><td>     0.304</td><td>      9996</td><td>     0.183</td><td>     0.159</td><td>      9996</td></tr><tr><td><strong>9996</strong></td><td>False</td><td>     0.249</td><td>      9997</td><td>     0.467</td><td>     0.685</td><td>      9997</td></tr><tr><td><strong>9997</strong></td><td>True</td><td>     0.148</td><td>      9998</td><td>     0.431</td><td>     0.736</td><td>      9998</td></tr><tr><td><strong>9998</strong></td><td>False</td><td>     0.164</td><td>      9999</td><td>     0.822</td><td>     0.709</td><td>      9999</td></tr><tr><td><strong>9999</strong></td><td>False</td><td>     0.591</td><td>     10000</td><td>     0.292</td><td>     0.918</td><td>     10000</td></tr></tbody></table>"
     },
     "metadata": {},
     "execution_count": 38
    }
   ],
   "source": [
    "df_tisch"
   ]
  },
  {
   "cell_type": "code",
   "execution_count": null,
   "metadata": {},
   "outputs": [],
   "source": []
  }
 ],
 "metadata": {
  "kernelspec": {
   "name": "python3",
   "display_name": "Python 3.6.13 64-bit ('tisch': conda)"
  },
  "language_info": {
   "codemirror_mode": {
    "name": "ipython",
    "version": 3
   },
   "file_extension": ".py",
   "mimetype": "text/x-python",
   "name": "python",
   "nbconvert_exporter": "python",
   "pygments_lexer": "ipython3",
   "version": "3.6.13"
  },
  "interpreter": {
   "hash": "caeda533942cfc489fc69de82b6eb06ee6dab64546a4f2ef65b1dfe0e2b94600"
  }
 },
 "nbformat": 4,
 "nbformat_minor": 5
}